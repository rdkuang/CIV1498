{
 "cells": [
  {
   "cell_type": "markdown",
   "metadata": {
    "id": "_bphECiUa9zw"
   },
   "source": [
    "# Lab 5: Spam Detection\n",
    "\n",
    "**Deadline**: Monday, Mar 14, 5:00 PM\n",
    "\n",
    "**Late Penalty**: Any work that is submitted between 0 hour and 24 hours past the deadline will receive a 20% grade deduction. No other late work is accepted. Quercus submission time will be used, not your local computer time. You can submit your labs as many times as you want before the deadline, so please submit often and early.\n",
    "\n",
    "**TA**: Hossein Yousefi <hossein.yousefi@mail.utoronto.ca>\n",
    "\n",
    "In this assignment, we will build a recurrent neural network to classify a SMS text message\n",
    "as \"spam\" or \"not spam\". In the process, you will\n",
    "    \n",
    "1. Clean and process text data for machine learning.\n",
    "2. Understand and implement a character-level recurrent neural network.\n",
    "3. Use torchtext to build recurrent neural network models.\n",
    "4. Understand batching for a recurrent neural network, and use torchtext to implement RNN batching.\n",
    "\n",
    "### What to submit\n",
    "\n",
    "Submit a PDF file containing all your code, outputs, and write-up. You can produce a PDF of your Google Colab file by going to File > Print and then save as PDF. The Colab instructions have more information (.html files are also acceptable).\n",
    "\n",
    "Do not submit any other files produced by your code.\n",
    "\n",
    "Include a link to your colab file in your submission."
   ]
  },
  {
   "cell_type": "markdown",
   "metadata": {
    "id": "rWiUqJJTa9z6"
   },
   "source": [
    "## Colab Link\n",
    "\n",
    "Include a link to your Colab file here. If you would like the TA to look at your\n",
    "Colab file in case your solutions are cut off, **please make sure that your Colab\n",
    "file is publicly accessible at the time of submission**.\n",
    "\n",
    "Colab Link: https://drive.google.com/file/d/1Hsmb43lOXLCcggFP3eqeAYP0fPVE4yMZ/view?usp=sharing"
   ]
  },
  {
   "cell_type": "code",
   "execution_count": 3,
   "metadata": {
    "id": "HgfNOUaPa9z8",
    "jupyter": {
     "outputs_hidden": true
    }
   },
   "outputs": [],
   "source": [
    "import torch\n",
    "import torch.nn as nn\n",
    "import torch.nn.functional as F\n",
    "import torch.optim as optim\n",
    "import numpy as np\n",
    "import time\n",
    "import os"
   ]
  },
  {
   "cell_type": "code",
   "execution_count": 4,
   "metadata": {
    "colab": {
     "base_uri": "https://localhost:8080/"
    },
    "executionInfo": {
     "elapsed": 282,
     "status": "ok",
     "timestamp": 1647187013733,
     "user": {
      "displayName": "Yifan Lu",
      "photoUrl": "https://lh3.googleusercontent.com/a-/AOh14Gh3mO9arbKO8PsujoGig1HDIyODZyvAwxAln-XK2A=s64",
      "userId": "13144022923262331696"
     },
     "user_tz": 240
    },
    "id": "425Or-rW-43e",
    "outputId": "e541d4d0-7a94-4c1d-afc6-43ee2b6be397"
   },
   "outputs": [
    {
     "data": {
      "text/plain": [
       "device(type='cpu')"
      ]
     },
     "execution_count": 4,
     "metadata": {},
     "output_type": "execute_result"
    }
   ],
   "source": [
    "device = torch.device(\"cuda:0\" if torch.cuda.is_available() else \"cpu\")\n",
    "device"
   ]
  },
  {
   "cell_type": "code",
   "execution_count": 5,
   "metadata": {
    "colab": {
     "base_uri": "https://localhost:8080/"
    },
    "executionInfo": {
     "elapsed": 16148,
     "status": "ok",
     "timestamp": 1647187029878,
     "user": {
      "displayName": "Yifan Lu",
      "photoUrl": "https://lh3.googleusercontent.com/a-/AOh14Gh3mO9arbKO8PsujoGig1HDIyODZyvAwxAln-XK2A=s64",
      "userId": "13144022923262331696"
     },
     "user_tz": 240
    },
    "id": "Tc7Ozku2_ke2",
    "outputId": "8a056ce4-87ba-4694-e1fa-4296ccc9ae58"
   },
   "outputs": [
    {
     "ename": "ModuleNotFoundError",
     "evalue": "No module named 'google'",
     "output_type": "error",
     "traceback": [
      "\u001b[0;31m---------------------------------------------------------------------------\u001b[0m",
      "\u001b[0;31mModuleNotFoundError\u001b[0m                       Traceback (most recent call last)",
      "\u001b[0;32m<ipython-input-5-d5df0069828e>\u001b[0m in \u001b[0;36m<module>\u001b[0;34m\u001b[0m\n\u001b[0;32m----> 1\u001b[0;31m \u001b[0;32mfrom\u001b[0m \u001b[0mgoogle\u001b[0m\u001b[0;34m.\u001b[0m\u001b[0mcolab\u001b[0m \u001b[0;32mimport\u001b[0m \u001b[0mdrive\u001b[0m\u001b[0;34m\u001b[0m\u001b[0;34m\u001b[0m\u001b[0m\n\u001b[0m\u001b[1;32m      2\u001b[0m \u001b[0mdrive\u001b[0m\u001b[0;34m.\u001b[0m\u001b[0mmount\u001b[0m\u001b[0;34m(\u001b[0m\u001b[0;34m'/content/drive'\u001b[0m\u001b[0;34m)\u001b[0m\u001b[0;34m\u001b[0m\u001b[0;34m\u001b[0m\u001b[0m\n",
      "\u001b[0;31mModuleNotFoundError\u001b[0m: No module named 'google'"
     ]
    }
   ],
   "source": [
    "from google.colab import drive\n",
    "drive.mount('/content/drive')"
   ]
  },
  {
   "cell_type": "code",
   "execution_count": null,
   "metadata": {
    "id": "uaLEIRa1_JNI"
   },
   "outputs": [],
   "source": [
    "WORKING_DIR = \"/content/drive/MyDrive/Documents/Uni/School/FifthYear/APS360/lab5\"\n",
    "os.chdir(WORKING_DIR)\n",
    "DATASET_PATH = \"SMSSpamCollection\""
   ]
  },
  {
   "cell_type": "markdown",
   "metadata": {
    "id": "M0jLI9LBa90C"
   },
   "source": [
    "## Part 1. Data Cleaning [15 pt]\n",
    "\n",
    "We will be using the \"SMS Spam Collection Data Set\" available at http://archive.ics.uci.edu/ml/datasets/SMS+Spam+Collection\n",
    "\n",
    "There is a link to download the \"Data Folder\" at the very top of the webpage. Download the zip file, unzip it, and upload the file `SMSSpamCollection` to Colab.    "
   ]
  },
  {
   "cell_type": "code",
   "execution_count": null,
   "metadata": {
    "colab": {
     "base_uri": "https://localhost:8080/"
    },
    "executionInfo": {
     "elapsed": 841,
     "status": "ok",
     "timestamp": 1647103116082,
     "user": {
      "displayName": "Yifan Lu",
      "photoUrl": "https://lh3.googleusercontent.com/a-/AOh14Gh3mO9arbKO8PsujoGig1HDIyODZyvAwxAln-XK2A=s64",
      "userId": "13144022923262331696"
     },
     "user_tz": 300
    },
    "id": "MvbS4n2iSw2R",
    "outputId": "ec6955af-ee50-441f-ce54-ffa11694c1e4"
   },
   "outputs": [
    {
     "name": "stdout",
     "output_type": "stream",
     "text": [
      "--2022-03-12 16:38:35--  http://archive.ics.uci.edu/ml/machine-learning-databases/00228/smsspamcollection.zip\n",
      "Resolving archive.ics.uci.edu (archive.ics.uci.edu)... 128.195.10.252\n",
      "Connecting to archive.ics.uci.edu (archive.ics.uci.edu)|128.195.10.252|:80... connected.\n",
      "HTTP request sent, awaiting response... 200 OK\n",
      "Length: 203415 (199K) [application/x-httpd-php]\n",
      "Saving to: ‘smsspamcollection.zip’\n",
      "\n",
      "smsspamcollection.z 100%[===================>] 198.65K   903KB/s    in 0.2s    \n",
      "\n",
      "2022-03-12 16:38:35 (903 KB/s) - ‘smsspamcollection.zip’ saved [203415/203415]\n",
      "\n",
      "Archive:  smsspamcollection.zip\n",
      "  inflating: SMSSpamCollection       \n",
      "  inflating: readme                  \n"
     ]
    }
   ],
   "source": [
    "!wget http://archive.ics.uci.edu/ml/machine-learning-databases/00228/smsspamcollection.zip\n",
    "!unzip smsspamcollection.zip"
   ]
  },
  {
   "cell_type": "markdown",
   "metadata": {
    "id": "sSuF7C_Ga90E"
   },
   "source": [
    "### Part (a) [2 pt]\n",
    "\n",
    "Open up the file in Python, and print out one example of a spam SMS, and one example of a non-spam SMS.\n",
    "\n",
    "What is the label value for a spam message, and what is the label value for a non-spam message?"
   ]
  },
  {
   "cell_type": "code",
   "execution_count": null,
   "metadata": {
    "colab": {
     "base_uri": "https://localhost:8080/"
    },
    "executionInfo": {
     "elapsed": 668,
     "status": "ok",
     "timestamp": 1647187032281,
     "user": {
      "displayName": "Yifan Lu",
      "photoUrl": "https://lh3.googleusercontent.com/a-/AOh14Gh3mO9arbKO8PsujoGig1HDIyODZyvAwxAln-XK2A=s64",
      "userId": "13144022923262331696"
     },
     "user_tz": 240
    },
    "id": "I_IfXHeTa90F",
    "jupyter": {
     "outputs_hidden": true
    },
    "outputId": "a052c2ea-0f6e-47f4-85d2-d97c4536f444"
   },
   "outputs": [
    {
     "name": "stdout",
     "output_type": "stream",
     "text": [
      "ham\tGo until jurong point, crazy.. Available only in bugis n great world la e buffet... Cine there got amore wat...\n",
      "\n",
      "spam\tFree entry in 2 a wkly comp to win FA Cup final tkts 21st May 2005. Text FA to 87121 to receive entry question(std txt rate)T&C's apply 08452810075over18's\n",
      "\n"
     ]
    }
   ],
   "source": [
    "seen = set()\n",
    "for line in open(DATASET_PATH):\n",
    "    category = line.split()[0]\n",
    "    if category not in seen:\n",
    "      print(line)\n",
    "      seen.add(category)"
   ]
  },
  {
   "cell_type": "markdown",
   "metadata": {
    "id": "QgKykl10UBzX"
   },
   "source": [
    "| Spam Message | Non-Spam Message |\n",
    "| --- | --- |\n",
    "| spam | ham |"
   ]
  },
  {
   "cell_type": "markdown",
   "metadata": {
    "id": "AukA6vMVa90d"
   },
   "source": [
    "### Part (b) [1 pt]\n",
    "\n",
    "How many spam messages are there in the data set?\n",
    "How many non-spam messages are there in the data set?\n"
   ]
  },
  {
   "cell_type": "code",
   "execution_count": null,
   "metadata": {
    "colab": {
     "base_uri": "https://localhost:8080/"
    },
    "executionInfo": {
     "elapsed": 251,
     "status": "ok",
     "timestamp": 1647103138062,
     "user": {
      "displayName": "Yifan Lu",
      "photoUrl": "https://lh3.googleusercontent.com/a-/AOh14Gh3mO9arbKO8PsujoGig1HDIyODZyvAwxAln-XK2A=s64",
      "userId": "13144022923262331696"
     },
     "user_tz": 300
    },
    "id": "LgsqyemVa90e",
    "jupyter": {
     "outputs_hidden": true
    },
    "outputId": "d8065ad8-99e6-4110-b77f-1adb2ea5e41e"
   },
   "outputs": [
    {
     "name": "stdout",
     "output_type": "stream",
     "text": [
      "Number of spam messages = 747\n",
      "Number of non-spam messages = 4827\n"
     ]
    }
   ],
   "source": [
    "spam = 0\n",
    "ham = 0\n",
    "for line in open(DATASET_PATH):\n",
    "    category = line.split()[0]\n",
    "    if category == \"spam\":\n",
    "      spam += 1\n",
    "    elif category == \"ham\":\n",
    "      ham += 1\n",
    "    else:\n",
    "      raise\n",
    "\n",
    "print(\"Number of spam messages =\", spam)\n",
    "print(\"Number of non-spam messages =\", ham)"
   ]
  },
  {
   "cell_type": "markdown",
   "metadata": {
    "id": "d1WXxVt6a90h"
   },
   "source": [
    "### Part (c) [4 pt]\n",
    "\n",
    "We will be using the package `torchtext` to load, process, and batch the data.\n",
    "A tutorial to torchtext is available below. This tutorial uses the same\n",
    "Sentiment140 data set that we explored during lecture.\n",
    "\n",
    "https://medium.com/@sonicboom8/sentiment-analysis-torchtext-55fb57b1fab8\n",
    "\n",
    "Unlike what we did during lecture, we will be building a **character level RNN**.\n",
    "That is, we will treat each **character** as a token in our sequence,\n",
    "rather than each **word**.\n",
    "\n",
    "Identify two advantage and two disadvantage of modelling SMS text\n",
    "messages as a sequence of characters rather than a sequence of words."
   ]
  },
  {
   "cell_type": "markdown",
   "metadata": {
    "id": "VvDDH3WuYMfe"
   },
   "source": [
    "---\n",
    "**Advantages**\n",
    "1. Misspelled words or words that is not in the `Sentiment140` dataset will not be treated as a special `unknown` token; instead, they will be treated like other characters and be fed into the RNN. \n",
    "2. There is a small number of characters, making it easier to use one-hot encoding on all of the characters without the size of the encoding being too large. \n",
    "\n",
    "\n",
    "**Disadvantages**\n",
    "1. It is likely more computationally expensive than the word-level counterpart because it requires deeper networks to model long-term dependencies. \n",
    "2. It is likely to have lower accuracy than the word-level counterpart, since the grouping of each individual word is left for the network to learn, instead of directly given. Characters do not convey the meanings that are represented by words. \n"
   ]
  },
  {
   "cell_type": "markdown",
   "metadata": {
    "id": "ie_D0bv9a90k"
   },
   "source": [
    "### Part (d) [1 pt]\n",
    "\n",
    "We will be loading our data set using `torchtext.data.TabularDataset`. The\n",
    "constructor will read directly from the `SMSSpamCollection` file. \n",
    "\n",
    "For the data file to be read successfuly, we\n",
    "need to specify the **fields** (columns) in the file. \n",
    "In our case, the dataset has two fields: \n",
    "\n",
    "- a text field containing the sms messages,\n",
    "- a label field which will be converted into a binary label.\n",
    "\n",
    "Split the dataset into `train`, `valid`, and `test`. Use a 60-20-20 split.\n",
    "You may find this torchtext API page helpful:\n",
    "https://torchtext.readthedocs.io/en/latest/data.html#dataset\n",
    "\n",
    "Hint: There is a `Dataset` method that can perform the random split for you."
   ]
  },
  {
   "cell_type": "code",
   "execution_count": 8,
   "metadata": {
    "colab": {
     "base_uri": "https://localhost:8080/"
    },
    "executionInfo": {
     "elapsed": 333,
     "status": "ok",
     "timestamp": 1647187041059,
     "user": {
      "displayName": "Yifan Lu",
      "photoUrl": "https://lh3.googleusercontent.com/a-/AOh14Gh3mO9arbKO8PsujoGig1HDIyODZyvAwxAln-XK2A=s64",
      "userId": "13144022923262331696"
     },
     "user_tz": 240
    },
    "id": "P_Y6Puz9a90l",
    "jupyter": {
     "outputs_hidden": true
    },
    "outputId": "ddcfd041-f277-4c83-d9e5-fb508e13848f"
   },
   "outputs": [
    {
     "ename": "AttributeError",
     "evalue": "module 'torchtext.data' has no attribute 'Field'",
     "output_type": "error",
     "traceback": [
      "\u001b[0;31m---------------------------------------------------------------------------\u001b[0m",
      "\u001b[0;31mAttributeError\u001b[0m                            Traceback (most recent call last)",
      "\u001b[0;32m<ipython-input-8-ca8cb82419ff>\u001b[0m in \u001b[0;36m<module>\u001b[0;34m\u001b[0m\n\u001b[1;32m      2\u001b[0m \u001b[0;32mimport\u001b[0m \u001b[0mrandom\u001b[0m\u001b[0;34m\u001b[0m\u001b[0;34m\u001b[0m\u001b[0m\n\u001b[1;32m      3\u001b[0m \u001b[0;34m\u001b[0m\u001b[0m\n\u001b[0;32m----> 4\u001b[0;31m text_field = torchtext.data.Field(sequential=True,      # text sequence\n\u001b[0m\u001b[1;32m      5\u001b[0m                                         \u001b[0mtokenize\u001b[0m\u001b[0;34m=\u001b[0m\u001b[0;32mlambda\u001b[0m \u001b[0mx\u001b[0m\u001b[0;34m:\u001b[0m \u001b[0mx\u001b[0m\u001b[0;34m,\u001b[0m \u001b[0;31m# because are building a character-RNN\u001b[0m\u001b[0;34m\u001b[0m\u001b[0;34m\u001b[0m\u001b[0m\n\u001b[1;32m      6\u001b[0m                                         \u001b[0minclude_lengths\u001b[0m\u001b[0;34m=\u001b[0m\u001b[0;32mTrue\u001b[0m\u001b[0;34m,\u001b[0m \u001b[0;31m# to track the length of sequences, for batching\u001b[0m\u001b[0;34m\u001b[0m\u001b[0;34m\u001b[0m\u001b[0m\n",
      "\u001b[0;31mAttributeError\u001b[0m: module 'torchtext.data' has no attribute 'Field'"
     ]
    }
   ],
   "source": [
    "import torchtext\n",
    "import random\n",
    "\n",
    "text_field = torchtext.data.Field(sequential=True,      # text sequence\n",
    "                                        tokenize=lambda x: x, # because are building a character-RNN\n",
    "                                        include_lengths=True, # to track the length of sequences, for batching\n",
    "                                        batch_first=True,\n",
    "                                        use_vocab=True)       # to turn each character into an integer index\n",
    "label_field = torchtext.data.Field(sequential=False,    # not a sequence\n",
    "                                        use_vocab=False,     # don't need to track vocabulary\n",
    "                                        is_target=True,      \n",
    "                                        batch_first=True,\n",
    "                                        preprocessing=lambda x: int(x == 'spam')) # convert text to 0 and 1\n",
    "\n",
    "fields = [('label', label_field), ('email', text_field)]\n",
    "dataset = torchtext.legacy.data.TabularDataset(\"/Users/dakuang/Downloads/Project_1/test.csv\", # name of the file\n",
    "                                              \"csv\",               # fields are separated by a tab\n",
    "                                              fields)\n",
    "\n",
    "\n",
    "# print(dataset[0].sms)\n",
    "# print(dataset[0].label)\n",
    "\n",
    "random.seed(1000)\n",
    "\n",
    "train, valid_test  = dataset.split(split_ratio=0.6, random_state= random.getstate())\n",
    "valid, test = valid_test.split(split_ratio=0.5, random_state= random.getstate())\n",
    "print(\"train size:\", len(train))\n",
    "print(\"val size:\", len(valid))\n",
    "print(\"test size:\", len(test))\n"
   ]
  },
  {
   "cell_type": "markdown",
   "metadata": {
    "id": "v6nP0Ks_a90o"
   },
   "source": [
    "### Part (e) [2 pt]\n",
    "\n",
    "You saw in part (b) that there are many more non-spam messages than spam messages.\n",
    "This **imbalance** in our training data will be problematic for training.\n",
    "We can fix this disparity by duplicating spam messages in the training set,\n",
    "so that the training set is roughly **balanced**.\n",
    "\n",
    "Explain why having a balanced training set is helpful for training our neural network.\n",
    "\n",
    "Note: if you are not sure, try removing the below code and train your mode."
   ]
  },
  {
   "cell_type": "code",
   "execution_count": null,
   "metadata": {
    "collapsed": true,
    "id": "FWvx9_rka90p",
    "jupyter": {
     "outputs_hidden": true
    }
   },
   "outputs": [],
   "source": [
    "# save the original training examples\n",
    "old_train_examples = train.examples\n",
    "# get all the spam messages in `train`\n",
    "train_spam = []\n",
    "for item in train.examples:\n",
    "    if item.label == 1:\n",
    "        train_spam.append(item)\n",
    "# duplicate each spam message 6 more times\n",
    "train.examples = old_train_examples + train_spam * 6"
   ]
  },
  {
   "cell_type": "markdown",
   "metadata": {
    "id": "TIwmPXfTDrO7"
   },
   "source": [
    "---\n",
    "If the training set is imbalanced, then the network would be more likely to predict an input to be the one that it has seen more during training; in this case, there are more non-spam messages than spam messages, so the network is more likely to predict non-spam given a message. If we make the dataset roughly balanced, then the network won't have this inherent bias. "
   ]
  },
  {
   "cell_type": "markdown",
   "metadata": {
    "id": "j7eUmBEva90r"
   },
   "source": [
    "### Part (f) [1 pt]\n",
    "\n",
    "We need to build the vocabulary on the training data by running the below code.\n",
    "This finds all the possible character tokens in the training set.\n",
    "\n",
    "Explain what the variables `text_field.vocab.stoi` and `text_field.vocab.itos` represent."
   ]
  },
  {
   "cell_type": "code",
   "execution_count": null,
   "metadata": {
    "colab": {
     "base_uri": "https://localhost:8080/"
    },
    "collapsed": true,
    "executionInfo": {
     "elapsed": 231,
     "status": "ok",
     "timestamp": 1647187048066,
     "user": {
      "displayName": "Yifan Lu",
      "photoUrl": "https://lh3.googleusercontent.com/a-/AOh14Gh3mO9arbKO8PsujoGig1HDIyODZyvAwxAln-XK2A=s64",
      "userId": "13144022923262331696"
     },
     "user_tz": 240
    },
    "id": "8CQM8flKa90s",
    "jupyter": {
     "outputs_hidden": true
    },
    "outputId": "fc5ff333-9505-4a11-c12b-c1f24259fa5a"
   },
   "outputs": [
    {
     "name": "stdout",
     "output_type": "stream",
     "text": [
      "defaultdict(<bound method Vocab._default_unk_index of <torchtext.legacy.vocab.Vocab object at 0x7ff19d6c68d0>>, {'<unk>': 0, '<pad>': 1, ' ': 2, 'e': 3, 'o': 4, 't': 5, 'a': 6, 'n': 7, 'r': 8, 'i': 9, 's': 10, 'l': 11, 'u': 12, '0': 13, 'h': 14, 'd': 15, '.': 16, 'c': 17, 'm': 18, 'y': 19, 'w': 20, 'p': 21, 'g': 22, '1': 23, 'f': 24, '2': 25, 'b': 26, '8': 27, 'T': 28, 'k': 29, 'E': 30, 'v': 31, '5': 32, 'S': 33, 'C': 34, 'O': 35, 'I': 36, '7': 37, '4': 38, 'N': 39, 'x': 40, 'A': 41, '3': 42, '6': 43, 'R': 44, '!': 45, ',': 46, '9': 47, 'P': 48, 'M': 49, 'U': 50, 'W': 51, 'L': 52, 'H': 53, 'D': 54, 'B': 55, 'Y': 56, '/': 57, 'F': 58, 'G': 59, \"'\": 60, '?': 61, '£': 62, '-': 63, '&': 64, ':': 65, 'X': 66, 'z': 67, 'V': 68, 'K': 69, 'j': 70, '*': 71, 'J': 72, ';': 73, ')': 74, '+': 75, 'Q': 76, '\"': 77, '(': 78, 'q': 79, '#': 80, '@': 81, '=': 82, 'Z': 83, '>': 84, 'ü': 85, 'Ü': 86, '<': 87, '_': 88, '$': 89, '\\x92': 90, '‘': 91, '[': 92, ']': 93, '¡': 94, '%': 95, '|': 96, '…': 97, '’': 98, '\\x93': 99, 'ú': 100, '“': 101, '–': 102, '\\x96': 103, 'é': 104, '\\t': 105, '\\n': 106, '\\\\': 107, '\\x94': 108, '\\x91': 109, '»': 110, 'É': 111, 'è': 112})\n",
      "['<unk>', '<pad>', ' ', 'e', 'o', 't', 'a', 'n', 'r', 'i', 's', 'l', 'u', '0', 'h', 'd', '.', 'c', 'm', 'y', 'w', 'p', 'g', '1', 'f', '2', 'b', '8', 'T', 'k', 'E', 'v', '5', 'S', 'C', 'O', 'I', '7', '4', 'N', 'x', 'A', '3', '6', 'R', '!', ',', '9', 'P', 'M', 'U', 'W', 'L', 'H', 'D', 'B', 'Y', '/', 'F', 'G', \"'\", '?', '£', '-', '&', ':', 'X', 'z', 'V', 'K', 'j', '*', 'J', ';', ')', '+', 'Q', '\"', '(', 'q', '#', '@', '=', 'Z', '>', 'ü', 'Ü', '<', '_', '$', '\\x92', '‘', '[', ']', '¡', '%', '|', '…', '’', '\\x93', 'ú', '“', '–', '\\x96', 'é', '\\t', '\\n', '\\\\', '\\x94', '\\x91', '»', 'É', 'è']\n"
     ]
    }
   ],
   "source": [
    "text_field.build_vocab(train)\n",
    "print(text_field.vocab.stoi)\n",
    "print(text_field.vocab.itos)"
   ]
  },
  {
   "cell_type": "markdown",
   "metadata": {
    "id": "K1UVX764GnBm"
   },
   "source": [
    "---\n",
    "`text_field.vocab.stoi` provides a dictionary mapping token\n",
    "haracters set to their corresponding numerical identifier.\n",
    "`text_field.vocab.itos` provides a list of token characters set indexed by their numerical identifier. "
   ]
  },
  {
   "cell_type": "markdown",
   "metadata": {
    "id": "TC8WVE8Ua90u"
   },
   "source": [
    "### Part (g) [2 pt]\n",
    "\n",
    "The tokens `<unk>` and `<pad>` were not in our SMS text messages.\n",
    "What do these two values represent?"
   ]
  },
  {
   "cell_type": "markdown",
   "metadata": {
    "id": "lFm3IQvkHZMx"
   },
   "source": [
    "---\n",
    "`<unk>` represents \"unknown token\" which is used when a given word is not in the vocabulary (Out-of-Vocabulary or OOV). \n",
    "\n",
    "`<pad>` represents \"padding\" which is used to pad short sentences to ensure equial lengh input to the network. "
   ]
  },
  {
   "cell_type": "markdown",
   "metadata": {
    "id": "Ff5CNk7Qa90y"
   },
   "source": [
    "### Part (h) [2 pt]\n",
    "\n",
    "Since text sequences are of variable length, `torchtext` provides a `BucketIterator` data loader,\n",
    "which batches similar length sequences together. The iterator also provides functionalities to\n",
    "pad sequences automatically.\n",
    "\n",
    "Take a look at 10 batches in `train_iter`. What is the maximum length of the\n",
    "input sequence in each batch? How many `<pad>` tokens are used in each of the 10\n",
    "batches?"
   ]
  },
  {
   "cell_type": "code",
   "execution_count": null,
   "metadata": {
    "collapsed": true,
    "id": "V8N8qLWOa90y",
    "jupyter": {
     "outputs_hidden": true
    }
   },
   "outputs": [],
   "source": [
    "train_iter = torchtext.legacy.data.BucketIterator(train,\n",
    "                                           batch_size=32,\n",
    "                                           sort_key=lambda x: len(x.sms), # to minimize padding\n",
    "                                           sort_within_batch=True,        # sort within each batch\n",
    "                                           repeat=False)                  # repeat the iterator for many epochs"
   ]
  },
  {
   "cell_type": "code",
   "execution_count": null,
   "metadata": {
    "colab": {
     "base_uri": "https://localhost:8080/"
    },
    "executionInfo": {
     "elapsed": 156,
     "status": "ok",
     "timestamp": 1647103163459,
     "user": {
      "displayName": "Yifan Lu",
      "photoUrl": "https://lh3.googleusercontent.com/a-/AOh14Gh3mO9arbKO8PsujoGig1HDIyODZyvAwxAln-XK2A=s64",
      "userId": "13144022923262331696"
     },
     "user_tz": 300
    },
    "id": "Qwz-rOaha902",
    "jupyter": {
     "outputs_hidden": true
    },
    "outputId": "c258415e-d11b-46a9-f987-5cb4a4dc3b47"
   },
   "outputs": [
    {
     "name": "stdout",
     "output_type": "stream",
     "text": [
      "-------------------- 1 --------------------\n",
      "Maximum length of input sequence: 32\n",
      "Number of <pad> tokens: 17\n",
      "-------------------- 2 --------------------\n",
      "Maximum length of input sequence: 107\n",
      "Number of <pad> tokens: 28\n",
      "-------------------- 3 --------------------\n",
      "Maximum length of input sequence: 150\n",
      "Number of <pad> tokens: 11\n",
      "-------------------- 4 --------------------\n",
      "Maximum length of input sequence: 65\n",
      "Number of <pad> tokens: 47\n",
      "-------------------- 5 --------------------\n",
      "Maximum length of input sequence: 134\n",
      "Number of <pad> tokens: 30\n",
      "-------------------- 6 --------------------\n",
      "Maximum length of input sequence: 148\n",
      "Number of <pad> tokens: 17\n",
      "-------------------- 7 --------------------\n",
      "Maximum length of input sequence: 158\n",
      "Number of <pad> tokens: 0\n",
      "-------------------- 8 --------------------\n",
      "Maximum length of input sequence: 40\n",
      "Number of <pad> tokens: 39\n",
      "-------------------- 9 --------------------\n",
      "Maximum length of input sequence: 124\n",
      "Number of <pad> tokens: 55\n",
      "-------------------- 10 --------------------\n",
      "Maximum length of input sequence: 101\n",
      "Number of <pad> tokens: 23\n"
     ]
    }
   ],
   "source": [
    "train_iter_iterator = iter(train_iter)\n",
    "\n",
    "for i in range(10):\n",
    "  print(\"-\"*20 + f\" {i+1} \" + \"-\"*20)\n",
    "  batch = next(train_iter_iterator)\n",
    "  max_len = batch.sms[0].shape[1]\n",
    "  print(\"Maximum length of input sequence:\", max_len)\n",
    "  print(\"Number of <pad> tokens:\", sum(max_len - batch.sms[1]).item())\n",
    "  \n",
    "  # print(len(batch))\n",
    "  # print(batch.sms)\n",
    "  # print(batch.label)\n",
    "  # print(len(batch.sms))\n",
    "  # print(batch)\n",
    "\n",
    "\n",
    "    "
   ]
  },
  {
   "cell_type": "markdown",
   "metadata": {
    "id": "y7HnqP6_a904"
   },
   "source": [
    "## Part 2. Model Building [8 pt]\n",
    "\n",
    "Build a recurrent neural network model, using an architecture of your choosing. \n",
    "Use the one-hot embedding of each character as input to your recurrent network.\n",
    "Use one or more fully-connected layers to make the prediction based on your\n",
    "recurrent network output.\n",
    "\n",
    "Instead of using the RNN output value for the final token, another often used\n",
    "strategy is to max-pool over the entire output array. That is, instead of calling\n",
    "something like:\n",
    "\n",
    "```\n",
    "out, _ = self.rnn(x)\n",
    "self.fc(out[:, -1, :])\n",
    "```\n",
    "\n",
    "where `self.rnn` is an `nn.RNN`, `nn.GRU`, or `nn.LSTM` module, and `self.fc` is a \n",
    "fully-connected \n",
    "layer, we use:\n",
    "\n",
    "```\n",
    "out, _ = self.rnn(x)\n",
    "self.fc(torch.max(out, dim=1)[0])\n",
    "```\n",
    "\n",
    "This works reasonably in practice. An even better alternative is to concatenate the\n",
    "max-pooling and average-pooling of the RNN outputs:\n",
    "\n",
    "```\n",
    "out, _ = self.rnn(x)\n",
    "out = torch.cat([torch.max(out, dim=1)[0], \n",
    "                 torch.mean(out, dim=1)], dim=1)\n",
    "self.fc(out)\n",
    "```\n",
    "\n",
    "We encourage you to try out all these options. The way you pool the RNN outputs\n",
    "is one of the \"hyperparameters\" that you can choose to tune later on."
   ]
  },
  {
   "cell_type": "code",
   "execution_count": null,
   "metadata": {
    "colab": {
     "base_uri": "https://localhost:8080/"
    },
    "collapsed": true,
    "executionInfo": {
     "elapsed": 312,
     "status": "ok",
     "timestamp": 1647097229502,
     "user": {
      "displayName": "Yifan Lu",
      "photoUrl": "https://lh3.googleusercontent.com/a-/AOh14Gh3mO9arbKO8PsujoGig1HDIyODZyvAwxAln-XK2A=s64",
      "userId": "13144022923262331696"
     },
     "user_tz": 300
    },
    "id": "jHl1p_Wwa905",
    "jupyter": {
     "outputs_hidden": true
    },
    "outputId": "266919e3-1f8f-41b2-b056-920919dfbfc4"
   },
   "outputs": [
    {
     "name": "stdout",
     "output_type": "stream",
     "text": [
      "tensor([1., 0., 0., 0., 0., 0., 0., 0., 0., 0.])\n",
      "tensor([0., 1., 0., 0., 0., 0., 0., 0., 0., 0.])\n",
      "tensor([[[0., 1., 0., 0., 0., 0., 0., 0., 0., 0.],\n",
      "         [0., 0., 1., 0., 0., 0., 0., 0., 0., 0.]],\n",
      "\n",
      "        [[0., 0., 0., 1., 0., 0., 0., 0., 0., 0.],\n",
      "         [0., 0., 0., 0., 1., 0., 0., 0., 0., 0.]]])\n"
     ]
    }
   ],
   "source": [
    "# You might find this code helpful for obtaining\n",
    "# PyTorch one-hot vectors.\n",
    "\n",
    "ident = torch.eye(10)\n",
    "print(ident[0]) # one-hot vector\n",
    "print(ident[1]) # one-hot vector\n",
    "x = torch.tensor([[1, 2], [3, 4]])\n",
    "print(ident[x]) # one-hot vectors"
   ]
  },
  {
   "cell_type": "code",
   "execution_count": null,
   "metadata": {
    "colab": {
     "base_uri": "https://localhost:8080/"
    },
    "collapsed": true,
    "executionInfo": {
     "elapsed": 151,
     "status": "ok",
     "timestamp": 1647103258224,
     "user": {
      "displayName": "Yifan Lu",
      "photoUrl": "https://lh3.googleusercontent.com/a-/AOh14Gh3mO9arbKO8PsujoGig1HDIyODZyvAwxAln-XK2A=s64",
      "userId": "13144022923262331696"
     },
     "user_tz": 300
    },
    "id": "4LTQ7zFka909",
    "jupyter": {
     "outputs_hidden": true
    },
    "outputId": "5f87bd90-5fc3-48cd-c77b-fea5f1b88312"
   },
   "outputs": [
    {
     "data": {
      "text/plain": [
       "113"
      ]
     },
     "execution_count": 50,
     "metadata": {},
     "output_type": "execute_result"
    }
   ],
   "source": [
    "len(text_field.vocab) # Size of one-hot vector"
   ]
  },
  {
   "cell_type": "code",
   "execution_count": null,
   "metadata": {
    "id": "E047fSd7t1zN"
   },
   "outputs": [],
   "source": [
    "class SpamNet(nn.Module):\n",
    "    def __init__(self, vocab_size, hidden_size, num_classes):\n",
    "        super().__init__()\n",
    "        self.vocab_size = vocab_size\n",
    "        self.hidden_size = hidden_size\n",
    "        self.ident = torch.eye(vocab_size)\n",
    "        self.name = \"SpamNet\"\n",
    "\n",
    "        self.rnn = nn.RNN(vocab_size, hidden_size, batch_first=True)\n",
    "        self.fc = nn.Linear(hidden_size * 2, num_classes)\n",
    "    \n",
    "    def forward(self, x):\n",
    "        # Look up the embedding\n",
    "        x = self.ident[x]\n",
    "        x = x.to(device)\n",
    "\n",
    "        # Set an initial hidden state\n",
    "        h0 = torch.zeros(1, x.size(0), self.hidden_size).to(device)\n",
    "        # Forward propagate the RNN\n",
    "        out, _ = self.rnn(x, h0)\n",
    "        \n",
    "        # Pass the output of the last time step to the classifier\n",
    "        out = torch.cat([torch.max(out, dim=1)[0], \n",
    "                         torch.mean(out, dim=1)], dim=1)\n",
    "        # out = self.fc(out[:, -1, :])\n",
    "        # out = self.fc(torch.max(out, dim=1)[0])\n",
    "        out = self.fc(out)\n",
    "        \n",
    "        return out"
   ]
  },
  {
   "cell_type": "markdown",
   "metadata": {
    "id": "vKIYPl_Ba90_"
   },
   "source": [
    "## Part 3. Training [16 pt]\n",
    "\n",
    "### Part (a) [4 pt]\n",
    "\n",
    "Complete the `get_accuracy` function, which will compute the\n",
    "accuracy (rate) of your model across a dataset (e.g. validation set).\n",
    "You may modify `torchtext.data.BucketIterator` to make your computation\n",
    "faster."
   ]
  },
  {
   "cell_type": "code",
   "execution_count": 60,
   "metadata": {
    "collapsed": true,
    "executionInfo": {
     "elapsed": 219,
     "status": "ok",
     "timestamp": 1647196080966,
     "user": {
      "displayName": "Yifan Lu",
      "photoUrl": "https://lh3.googleusercontent.com/a-/AOh14Gh3mO9arbKO8PsujoGig1HDIyODZyvAwxAln-XK2A=s64",
      "userId": "13144022923262331696"
     },
     "user_tz": 240
    },
    "id": "pvNfhGD6a91A",
    "jupyter": {
     "outputs_hidden": true
    }
   },
   "outputs": [],
   "source": [
    "def get_accuracy(model, data):\n",
    "    \"\"\" Compute the accuracy of the `model` across a dataset `data`\n",
    "    \n",
    "    Example usage:\n",
    "    \n",
    "    >>> model = MyRNN() # to be defined\n",
    "    >>> get_accuracy(model, valid) # the variable `valid` is from above\n",
    "    \"\"\"\n",
    "\n",
    "    data_iter = torchtext.legacy.data.BucketIterator(data,\n",
    "                                           batch_size=len(data),\n",
    "                                           sort_key=lambda x: len(x.sms), # to minimize padding\n",
    "                                           sort_within_batch=True,        # sort within each batch\n",
    "                                           repeat=False)                  # repeat the iterator for many epochs\n",
    "\n",
    "    correct, total = 0, 0\n",
    "    \n",
    "    for sms, label in data_iter:\n",
    "        sms, label = sms[0].to(device), label.to(device)\n",
    "        output = model(sms)\n",
    "        pred = output.max(1, keepdim=True)[1]\n",
    "        correct += pred.eq(label.view_as(pred)).sum().item()\n",
    "        total += label.shape[0]\n",
    "\n",
    "    return correct / total"
   ]
  },
  {
   "cell_type": "code",
   "execution_count": null,
   "metadata": {
    "id": "9-bt56FW8bOj"
   },
   "outputs": [],
   "source": [
    "def evaluate(net, loader, criterion):\n",
    "    \"\"\" Evaluate the network on the validation set.\n",
    "\n",
    "     Args:\n",
    "         net: PyTorch neural network object\n",
    "         loader: PyTorch data loader for the validation set\n",
    "         criterion: The loss function\n",
    "     Returns:\n",
    "         acc: A scalar for the avg classification accuracy over the validation set\n",
    "         loss: A scalar for the average loss function over the validation set\n",
    "     \"\"\"\n",
    "     \n",
    "    total_loss = 0.0\n",
    "    total_acc = 0.0\n",
    "    total_epoch = 0\n",
    "    for i, data in enumerate(loader, 0):\n",
    "        inputs, labels = data\n",
    "        \n",
    "        inputs, labels = inputs[0].to(device), labels.to(device)\n",
    "        \n",
    "        outputs = net(inputs)\n",
    "        loss = criterion(outputs, labels)\n",
    "\n",
    "        # Get the index of the max log-probability\n",
    "        pred = outputs.max(1, keepdim=True)[1] \n",
    "\n",
    "        # Check for correctness\n",
    "        corr = pred.eq(labels.view_as(pred))\n",
    "\n",
    "        total_acc += int(corr.sum().item())\n",
    "        total_loss += loss.item()\n",
    "        total_epoch += len(labels)\n",
    "\n",
    "    acc = float(total_acc) / total_epoch\n",
    "    loss = float(total_loss) / (i + 1)\n",
    "    return acc, loss"
   ]
  },
  {
   "cell_type": "markdown",
   "metadata": {
    "id": "TlxlcAC1a91C"
   },
   "source": [
    "### Part (b) [4 pt]\n",
    "\n",
    "Train your model. Plot the training curve of your final model. \n",
    "Your training curve should have the training/validation loss and\n",
    "accuracy plotted periodically.\n",
    "\n",
    "Note: Not all of your batches will have the same batch size.\n",
    "In particular, if your training set does not divide evenly by\n",
    "your batch size, there will be a batch that is smaller than\n",
    "the rest. "
   ]
  },
  {
   "cell_type": "code",
   "execution_count": null,
   "metadata": {
    "id": "0u4aRZJS-Aqu"
   },
   "outputs": [],
   "source": [
    "def get_model_name(name, batch_size, learning_rate, epoch, path_prefix=\"\"):\n",
    "    \"\"\" Generate a name for the model consisting of all the hyperparameter values\n",
    "\n",
    "    Args:\n",
    "        config: Configuration object containing the hyperparameters\n",
    "    Returns:\n",
    "        path: A string with the hyperparameter name and value concatenated\n",
    "    \"\"\"\n",
    "    if path_prefix != \"\" and not os.path.exists(path_prefix):\n",
    "        os.makedirs(path_prefix)\n",
    "\n",
    "    path = \"model_{0}_bs{1}_lr{2}_epoch{3}\".format(name,\n",
    "                                                   batch_size,\n",
    "                                                   learning_rate,\n",
    "                                                   epoch)\n",
    "    \n",
    "    return os.path.join(path_prefix, path)"
   ]
  },
  {
   "cell_type": "code",
   "execution_count": null,
   "metadata": {
    "id": "e1Y3yHJN-CFm"
   },
   "outputs": [],
   "source": [
    "def plot_training_curve(path):\n",
    "    \"\"\" Plots the training curve for a model run, given the csv files\n",
    "    containing the train/validation accuracy/loss.\n",
    "\n",
    "    Args:\n",
    "        path: The base path of the csv files produced during training\n",
    "    \"\"\"\n",
    "    import matplotlib.pyplot as plt\n",
    "    train_acc = np.loadtxt(\"{}_train_acc.csv\".format(path))\n",
    "    val_acc = np.loadtxt(\"{}_val_acc.csv\".format(path))\n",
    "    train_loss = np.loadtxt(\"{}_train_loss.csv\".format(path))\n",
    "    val_loss = np.loadtxt(\"{}_val_loss.csv\".format(path))\n",
    "    plt.title(\"Train vs Validation Accuracy\")\n",
    "    n = len(train_acc) # number of epochs\n",
    "    plt.plot(range(1,n+1), train_acc, label=\"Train\")\n",
    "    plt.plot(range(1,n+1), val_acc, label=\"Validation\")\n",
    "    plt.xlabel(\"Epoch\")\n",
    "    plt.ylabel(\"Accuracy\")\n",
    "    plt.legend(loc='best')\n",
    "    plt.show()\n",
    "    plt.title(\"Train vs Validation Loss\")\n",
    "    plt.plot(range(1,n+1), train_loss, label=\"Train\")\n",
    "    plt.plot(range(1,n+1), val_loss, label=\"Validation\")\n",
    "    plt.xlabel(\"Epoch\")\n",
    "    plt.ylabel(\"Loss\")\n",
    "    plt.legend(loc='best')\n",
    "    plt.show()"
   ]
  },
  {
   "cell_type": "code",
   "execution_count": null,
   "metadata": {
    "collapsed": true,
    "id": "CVtf7CJCa91D",
    "jupyter": {
     "outputs_hidden": true
    }
   },
   "outputs": [],
   "source": [
    "def train_net(net, \n",
    "              train_set, val_set,\n",
    "              path_prefix=\"\", \n",
    "              batch_size=64, \n",
    "              learning_rate=0.01, \n",
    "              num_epochs=30,\n",
    "              num_workers=1,\n",
    "              sanity_check=False,\n",
    "              device=None,\n",
    "              **kwargs):\n",
    "\n",
    "    if not device:\n",
    "      device = torch.device(\"cuda:0\" if torch.cuda.is_available() else \"cpu\")\n",
    "\n",
    "    torch.manual_seed(1000)\n",
    "\n",
    "    train_iter = torchtext.legacy.data.BucketIterator(train_set,\n",
    "                                                      device=device,\n",
    "                                                      batch_size=batch_size,\n",
    "                                                      sort_key=lambda x: len(x.sms), # to minimize padding\n",
    "                                                      sort_within_batch=True,        # sort within each batch\n",
    "                                                      repeat=False)                  # repeat the iterator for many epochs\n",
    "    val_iter = torchtext.legacy.data.BucketIterator(val_set,\n",
    "                                                      device=device,\n",
    "                                                      batch_size=len(val_set),\n",
    "                                                      sort_key=lambda x: len(x.sms), # to minimize padding\n",
    "                                                      sort_within_batch=True,        # sort within each batch\n",
    "                                                      repeat=False)                  # repeat the iterator for many epochs\n",
    "    \n",
    "    criterion = nn.CrossEntropyLoss()\n",
    "    optimizer=optim.Adam(net.parameters(),lr=learning_rate)\n",
    "\n",
    "    ########################################################################\n",
    "    # Set up some numpy arrays to store the training/test loss/accuracy\n",
    "    train_acc = np.zeros(num_epochs)\n",
    "    train_loss = np.zeros(num_epochs)\n",
    "    val_acc = np.zeros(num_epochs)\n",
    "    val_loss = np.zeros(num_epochs)\n",
    "    ########################################################################\n",
    "    # Train the network\n",
    "    # Loop over the data iterator and sample a new batch of training data\n",
    "    # Get the output from the network, and optimize our loss function.\n",
    "    start_time = time.time()\n",
    "    for epoch in range(num_epochs):  # loop over the dataset multiple times\n",
    "        total_train_loss = 0.0\n",
    "        total_train_acc = 0.0\n",
    "        total_epoch = 0\n",
    "        for i, data in enumerate(train_iter, 0):\n",
    "            # Get the inputs\n",
    "            inputs, labels = data\n",
    "\n",
    "            # Move the inputs and labels to gpu if possible\n",
    "            inputs, labels = inputs[0].to(device), labels.to(device)\n",
    "\n",
    "            # Zero the parameter gradients\n",
    "            optimizer.zero_grad()\n",
    "            # Forward pass, backward pass, and optimize\n",
    "            outputs = net(inputs)\n",
    "            loss = criterion(outputs, labels)\n",
    "            # print(f\"inputs: {inputs.size()}, , labels: {labels.size()}, outputs: {outputs.size()}\")\n",
    "            # print(\"---\")\n",
    "            loss.backward()\n",
    "            optimizer.step()\n",
    "\n",
    "            # Calculate the statistics\n",
    "            # Get the index of the max log-probability\n",
    "            pred = outputs.max(1, keepdim=True)[1] \n",
    "\n",
    "            # Check for correctness\n",
    "            corr = pred.eq(labels.view_as(pred))\n",
    "\n",
    "            total_train_acc += int(corr.sum().item())\n",
    "            total_train_loss += loss.item()\n",
    "            total_epoch += len(labels)\n",
    "        \n",
    "        train_acc[epoch] = float(total_train_acc) / total_epoch\n",
    "        train_loss[epoch] = float(total_train_loss) / (i+1)\n",
    "        \n",
    "        val_acc[epoch], val_loss[epoch] = evaluate(net, val_iter, criterion)\n",
    "\n",
    "        print((\"Epoch {}: Train acc: {}, Train loss: {} |\"+\n",
    "               \"Validation acc: {}, Validation loss: {}\").format(\n",
    "                   epoch + 1,\n",
    "                   train_acc[epoch],\n",
    "                   train_loss[epoch],\n",
    "                   val_acc[epoch],\n",
    "                   val_loss[epoch]))\n",
    "        \n",
    "        # Save the current model (checkpoint) to a file\n",
    "        model_path = get_model_name(net.name, batch_size, learning_rate, epoch, path_prefix=path_prefix)\n",
    "        torch.save(net.state_dict(), model_path)\n",
    "    \n",
    "    print('Finished Training')\n",
    "    end_time = time.time()\n",
    "    elapsed_time = end_time - start_time\n",
    "    print(\"Total time elapsed: {:.2f} seconds\".format(elapsed_time))\n",
    "\n",
    "    # Write the train/test loss/acc into CSV file for plotting later\n",
    "    epochs = np.arange(1, num_epochs + 1)\n",
    "\n",
    "    np.savetxt(\"{}_train_acc.csv\".format(model_path), train_acc)\n",
    "    np.savetxt(\"{}_train_loss.csv\".format(model_path), train_loss)\n",
    "    np.savetxt(\"{}_val_acc.csv\".format(model_path), val_acc)\n",
    "    np.savetxt(\"{}_val_loss.csv\".format(model_path), val_loss)"
   ]
  },
  {
   "cell_type": "code",
   "execution_count": null,
   "metadata": {
    "colab": {
     "base_uri": "https://localhost:8080/"
    },
    "executionInfo": {
     "elapsed": 50798,
     "status": "ok",
     "timestamp": 1647187281990,
     "user": {
      "displayName": "Yifan Lu",
      "photoUrl": "https://lh3.googleusercontent.com/a-/AOh14Gh3mO9arbKO8PsujoGig1HDIyODZyvAwxAln-XK2A=s64",
      "userId": "13144022923262331696"
     },
     "user_tz": 240
    },
    "id": "EkpGZE-h-jIl",
    "outputId": "e50b2e9b-ff04-409b-9e01-cd3ef5ce17ea"
   },
   "outputs": [
    {
     "name": "stdout",
     "output_type": "stream",
     "text": [
      "Epoch 1: Train acc: 0.8209926769731489, Train loss: 0.3883919476439761 |Validation acc: 0.9658886894075404, Validation loss: 0.16700361669063568\n",
      "Epoch 2: Train acc: 0.9539462978030919, Train loss: 0.13994159388544106 |Validation acc: 0.9452423698384201, Validation loss: 0.1848687380552292\n",
      "Epoch 3: Train acc: 0.9656631407648495, Train loss: 0.1091431203959365 |Validation acc: 0.9802513464991023, Validation loss: 0.06493406742811203\n",
      "Epoch 4: Train acc: 0.9718470301057771, Train loss: 0.08848254433640042 |Validation acc: 0.9847396768402155, Validation loss: 0.05657554790377617\n",
      "Epoch 5: Train acc: 0.9707078925956062, Train loss: 0.07153417060026233 |Validation acc: 0.9784560143626571, Validation loss: 0.07631871104240417\n",
      "Epoch 6: Train acc: 0.9814483319772173, Train loss: 0.056828004498049194 |Validation acc: 0.9856373429084381, Validation loss: 0.04881724715232849\n",
      "Epoch 7: Train acc: 0.9887713588283157, Train loss: 0.03705464956746316 |Validation acc: 0.9856373429084381, Validation loss: 0.04732263460755348\n",
      "Epoch 8: Train acc: 0.9848657445077299, Train loss: 0.038676561921330684 |Validation acc: 0.9847396768402155, Validation loss: 0.045570991933345795\n",
      "Epoch 9: Train acc: 0.9923515052888527, Train loss: 0.02913812464531366 |Validation acc: 0.9784560143626571, Validation loss: 0.06056573614478111\n",
      "Epoch 10: Train acc: 0.9977217249796583, Train loss: 0.012697369358176606 |Validation acc: 0.9865350089766607, Validation loss: 0.05197335407137871\n",
      "Epoch 11: Train acc: 0.9949552481692433, Train loss: 0.01645858628811662 |Validation acc: 0.9892280071813285, Validation loss: 0.04406668245792389\n",
      "Epoch 12: Train acc: 0.9990235964198535, Train loss: 0.006788548515466285 |Validation acc: 0.9874326750448833, Validation loss: 0.04877321049571037\n",
      "Epoch 13: Train acc: 0.9990235964198535, Train loss: 0.006037865421858253 |Validation acc: 0.9874326750448833, Validation loss: 0.056337058544158936\n",
      "Epoch 14: Train acc: 1.0, Train loss: 0.0038651365385972292 |Validation acc: 0.9892280071813285, Validation loss: 0.05682319030165672\n",
      "Epoch 15: Train acc: 1.0, Train loss: 0.0011858347301539384 |Validation acc: 0.9883303411131059, Validation loss: 0.053733501583337784\n",
      "Epoch 16: Train acc: 1.0, Train loss: 0.0008939786352874446 |Validation acc: 0.9883303411131059, Validation loss: 0.06687058508396149\n",
      "Epoch 17: Train acc: 1.0, Train loss: 0.0005208551973044761 |Validation acc: 0.9892280071813285, Validation loss: 0.06797274202108383\n",
      "Epoch 18: Train acc: 1.0, Train loss: 0.00039878085083968695 |Validation acc: 0.9883303411131059, Validation loss: 0.07168932259082794\n",
      "Epoch 19: Train acc: 1.0, Train loss: 0.00034917759597432674 |Validation acc: 0.9883303411131059, Validation loss: 0.06500767171382904\n",
      "Epoch 20: Train acc: 1.0, Train loss: 0.00023455871775219462 |Validation acc: 0.9874326750448833, Validation loss: 0.07263161242008209\n",
      "Epoch 21: Train acc: 1.0, Train loss: 0.00020445516148766526 |Validation acc: 0.9874326750448833, Validation loss: 0.07315902411937714\n",
      "Epoch 22: Train acc: 1.0, Train loss: 0.00013838073590624768 |Validation acc: 0.9874326750448833, Validation loss: 0.07569203525781631\n",
      "Epoch 23: Train acc: 1.0, Train loss: 0.00013561563905851364 |Validation acc: 0.9874326750448833, Validation loss: 0.07805470377206802\n",
      "Epoch 24: Train acc: 1.0, Train loss: 0.00012584297137130499 |Validation acc: 0.9874326750448833, Validation loss: 0.07634635269641876\n",
      "Epoch 25: Train acc: 1.0, Train loss: 8.547242609103818e-05 |Validation acc: 0.9865350089766607, Validation loss: 0.08049111068248749\n",
      "Finished Training\n",
      "Total time elapsed: 41.38 seconds\n"
     ]
    }
   ],
   "source": [
    "model = SpamNet(vocab_size=len(text_field.vocab), \n",
    "                hidden_size=len(text_field.vocab), \n",
    "                num_classes=2).to(device)\n",
    "training_params = {\n",
    "    \"net\": model,\n",
    "    \"train_set\": train,\n",
    "    \"val_set\": valid,\n",
    "    \"path_prefix\": \"default\",\n",
    "    \"network_name\": model.__class__.__name__,\n",
    "    \"batch_size\": 32,\n",
    "    \"learning_rate\": 0.001,\n",
    "    \"num_epochs\": 25,\n",
    "    \"num_workers\": 2,\n",
    "    \"device\": device\n",
    "\n",
    "}\n",
    "train_net(**training_params)"
   ]
  },
  {
   "cell_type": "code",
   "execution_count": null,
   "metadata": {
    "colab": {
     "base_uri": "https://localhost:8080/",
     "height": 573
    },
    "executionInfo": {
     "elapsed": 1069,
     "status": "ok",
     "timestamp": 1647187347270,
     "user": {
      "displayName": "Yifan Lu",
      "photoUrl": "https://lh3.googleusercontent.com/a-/AOh14Gh3mO9arbKO8PsujoGig1HDIyODZyvAwxAln-XK2A=s64",
      "userId": "13144022923262331696"
     },
     "user_tz": 240
    },
    "id": "JyaQwdEnItv1",
    "outputId": "fc46d60e-011c-48f2-956e-1ea46a5f99cc"
   },
   "outputs": [
    {
     "data": {
      "image/png": "[encoded data removed]",
      "text/plain": [
       "<Figure size 432x288 with 1 Axes>"
      ]
     },
     "metadata": {
      "needs_background": "light"
     },
     "output_type": "display_data"
    },
    {
     "data": {
      "image/png": "[encoded data removed]",
      "text/plain": [
       "<Figure size 432x288 with 1 Axes>"
      ]
     },
     "metadata": {
      "needs_background": "light"
     },
     "output_type": "display_data"
    }
   ],
   "source": [
    "model_path = get_model_name(training_params[\"network_name\"], \n",
    "                            batch_size=training_params[\"batch_size\"], \n",
    "                            learning_rate=training_params[\"learning_rate\"], \n",
    "                            epoch=training_params[\"num_epochs\"] - 1,\n",
    "                            path_prefix=training_params[\"path_prefix\"])\n",
    "\n",
    "plot_training_curve(model_path)"
   ]
  },
  {
   "cell_type": "markdown",
   "metadata": {
    "id": "fE3eRkDAa91F"
   },
   "source": [
    "### Part (c) [4 pt]\n",
    "\n",
    "Choose at least 4 hyperparameters to tune. Explain how you tuned the hyperparameters.\n",
    "You don't need to include your training curve for every model you trained.\n",
    "Instead, explain what hyperparemters you tuned, what the best validation accuracy was,\n",
    "and the reasoning behind the hyperparameter decisions you made.\n",
    "\n",
    "For this assignment, you should tune more than just your learning rate and epoch. \n",
    "Choose at least 2 hyperparameters that are unrelated to the optimizer."
   ]
  },
  {
   "cell_type": "markdown",
   "metadata": {
    "id": "iSAThjFsCIJU"
   },
   "source": [
    "---\n",
    "\n",
    "| Hyperparameter | \n",
    "| --- | \n",
    "| RNN output pooling method | \n",
    "| Number of hidden layers|\n",
    "| Learning rate|\n",
    "| Batch size|\n",
    "\n",
    "| No. | Pooling | No. Hidden | lr | bs | val. acc. | Reasoning |\n",
    "| --- | --- | --- | --- | --- | --- | --- | \n",
    "| 1 | Max Pooling | 0 | 1e-3 | 64 | 0.96 | Compare the difference between <br> max, average, and concat methods |\n",
    "| 2 | Final Token | 0 | 1e-3 | 64 | 0.91 | Compare the difference between <br> max, average, and concat methods |\n",
    "| 3 | Concat Max & Mean | 0 | 1e-3 | 64 | 0.99 | Compare the difference between <br> max, average, and concat methods. <br>The concat max & min method seems to<br> work the best. |\n",
    "| 4 | Concat Max & Mean | 0 | 1e-3 | 512 | 0.98 | Increase the batch size for faster training |\n",
    "| 5 | Concat Max & Mean | 0 | 1e-2 | 512 | 0.96 | Increase the learning rate to match the <br>larger batch size |\n",
    "| 6 | Concat Max & Mean | 1 | 1e-3 | 64 | 0.99 | Added a hidden layer to see if it can help the <br>network learn more abstract features. I had to <br>use leaky ReLU because with ReLU, the training <br>did not converge.  |\n"
   ]
  },
  {
   "cell_type": "code",
   "execution_count": 24,
   "metadata": {
    "executionInfo": {
     "elapsed": 232,
     "status": "ok",
     "timestamp": 1647190103999,
     "user": {
      "displayName": "Yifan Lu",
      "photoUrl": "https://lh3.googleusercontent.com/a-/AOh14Gh3mO9arbKO8PsujoGig1HDIyODZyvAwxAln-XK2A=s64",
      "userId": "13144022923262331696"
     },
     "user_tz": 240
    },
    "id": "n3Yw7gdjKAyB"
   },
   "outputs": [],
   "source": [
    "class SpamNet2(nn.Module):\n",
    "    def __init__(self, vocab_size, hidden_size, num_classes):\n",
    "        super().__init__()\n",
    "        self.vocab_size = vocab_size\n",
    "        self.hidden_size = hidden_size\n",
    "        self.ident = torch.eye(vocab_size)\n",
    "        self.name = \"SpamNet2\"\n",
    "\n",
    "        self.rnn = nn.RNN(vocab_size, hidden_size, batch_first=True)\n",
    "        self.fc1 = nn.Linear(hidden_size * 2, 32)\n",
    "        self.fc2 = nn.Linear(32, num_classes)\n",
    "    \n",
    "    def forward(self, x):\n",
    "        # Look up the embedding\n",
    "        x = self.ident[x]\n",
    "        x = x.to(device)\n",
    "\n",
    "        # Set an initial hidden state\n",
    "        h0 = torch.zeros(1, x.size(0), self.hidden_size).to(device)\n",
    "        # Forward propagate the RNN\n",
    "        out, _ = self.rnn(x, h0)\n",
    "        \n",
    "        # Pass the output of the last time step to the classifier\n",
    "        out = torch.cat([torch.max(out, dim=1)[0], \n",
    "                         torch.mean(out, dim=1)], dim=1)\n",
    "        # out = self.fc(out[:, -1, :])\n",
    "        # out = self.fc(torch.max(out, dim=1)[0])\n",
    "        out = F.leaky_relu(self.fc1(out))\n",
    "        out = self.fc2(out)\n",
    "        \n",
    "        return out"
   ]
  },
  {
   "cell_type": "code",
   "execution_count": 25,
   "metadata": {
    "colab": {
     "base_uri": "https://localhost:8080/"
    },
    "executionInfo": {
     "elapsed": 34696,
     "status": "ok",
     "timestamp": 1647190140237,
     "user": {
      "displayName": "Yifan Lu",
      "photoUrl": "https://lh3.googleusercontent.com/a-/AOh14Gh3mO9arbKO8PsujoGig1HDIyODZyvAwxAln-XK2A=s64",
      "userId": "13144022923262331696"
     },
     "user_tz": 240
    },
    "id": "18Qz5PJKH7A9",
    "outputId": "4cd28271-d3fa-47d4-a660-2ae2d11e3b25"
   },
   "outputs": [
    {
     "name": "stdout",
     "output_type": "stream",
     "text": [
      "Epoch 1: Train acc: 0.5178193653376729, Train loss: 0.6936864880556913 |Validation acc: 0.11759425493716337, Validation loss: 0.7715349793434143\n",
      "Epoch 2: Train acc: 0.8022782750203418, Train loss: 0.38919939006649956 |Validation acc: 0.9748653500897666, Validation loss: 0.14515948295593262\n",
      "Epoch 3: Train acc: 0.934092758340114, Train loss: 0.19857449340394018 |Validation acc: 0.9622980251346499, Validation loss: 0.14915576577186584\n",
      "Epoch 4: Train acc: 0.9485760781122864, Train loss: 0.152131143794155 |Validation acc: 0.966786355475763, Validation loss: 0.10712765902280807\n",
      "Epoch 5: Train acc: 0.957526444263629, Train loss: 0.14364916523054397 |Validation acc: 0.9658886894075404, Validation loss: 0.10622607916593552\n",
      "Epoch 6: Train acc: 0.9609438567941416, Train loss: 0.11589746466194539 |Validation acc: 0.9802513464991023, Validation loss: 0.07288841903209686\n",
      "Epoch 7: Train acc: 0.9648494711147274, Train loss: 0.11011638224950616 |Validation acc: 0.9614003590664273, Validation loss: 0.12597256898880005\n",
      "Epoch 8: Train acc: 0.9685923515052889, Train loss: 0.09255414673117633 |Validation acc: 0.9793536804308797, Validation loss: 0.07934000343084335\n",
      "Epoch 9: Train acc: 0.9783563873067534, Train loss: 0.07066563075917207 |Validation acc: 0.9820466786355476, Validation loss: 0.06032967567443848\n",
      "Epoch 10: Train acc: 0.9775427176566314, Train loss: 0.061593016107883494 |Validation acc: 0.9793536804308797, Validation loss: 0.07105778902769089\n",
      "Epoch 11: Train acc: 0.9830756712774613, Train loss: 0.048099172158771644 |Validation acc: 0.9838420107719928, Validation loss: 0.051732733845710754\n",
      "Epoch 12: Train acc: 0.9856794141578519, Train loss: 0.04749201881920093 |Validation acc: 0.9829443447037702, Validation loss: 0.059307243674993515\n",
      "Epoch 13: Train acc: 0.9886086248982913, Train loss: 0.033927152939644864 |Validation acc: 0.9865350089766607, Validation loss: 0.06004219129681587\n",
      "Epoch 14: Train acc: 0.9949552481692433, Train loss: 0.0182221293336587 |Validation acc: 0.9829443447037702, Validation loss: 0.06739446520805359\n",
      "Epoch 15: Train acc: 0.9986981285598047, Train loss: 0.011359240421389239 |Validation acc: 0.9874326750448833, Validation loss: 0.05277380719780922\n",
      "Epoch 16: Train acc: 0.9995117982099267, Train loss: 0.007309554619852636 |Validation acc: 0.9874326750448833, Validation loss: 0.05440367013216019\n",
      "Epoch 17: Train acc: 0.9998372660699756, Train loss: 0.0037822621672284626 |Validation acc: 0.9883303411131059, Validation loss: 0.055419351905584335\n",
      "Epoch 18: Train acc: 1.0, Train loss: 0.002565173346719695 |Validation acc: 0.9847396768402155, Validation loss: 0.057434484362602234\n",
      "Epoch 19: Train acc: 0.9998372660699756, Train loss: 0.0036983385185315634 |Validation acc: 0.9865350089766607, Validation loss: 0.06250115483999252\n",
      "Epoch 20: Train acc: 1.0, Train loss: 0.0011065416661368386 |Validation acc: 0.9874326750448833, Validation loss: 0.06159143149852753\n",
      "Epoch 21: Train acc: 1.0, Train loss: 0.0009493234662381697 |Validation acc: 0.9883303411131059, Validation loss: 0.07390043884515762\n",
      "Epoch 22: Train acc: 1.0, Train loss: 0.0007732577005955726 |Validation acc: 0.9883303411131059, Validation loss: 0.06758002191781998\n",
      "Epoch 23: Train acc: 1.0, Train loss: 0.0005497282994810186 |Validation acc: 0.9883303411131059, Validation loss: 0.06864459067583084\n",
      "Epoch 24: Train acc: 1.0, Train loss: 0.0004378385543419689 |Validation acc: 0.9892280071813285, Validation loss: 0.07371442764997482\n",
      "Epoch 25: Train acc: 1.0, Train loss: 0.00032710692282317093 |Validation acc: 0.9892280071813285, Validation loss: 0.07574538141489029\n",
      "Finished Training\n",
      "Total time elapsed: 34.52 seconds\n"
     ]
    }
   ],
   "source": [
    "model = SpamNet2(vocab_size=len(text_field.vocab), \n",
    "                hidden_size=len(text_field.vocab), \n",
    "                num_classes=2).to(device)\n",
    "training_params = {\n",
    "    \"net\": model,\n",
    "    \"train_set\": train,\n",
    "    \"val_set\": valid,\n",
    "    \"path_prefix\": \"spamnet2_default\",\n",
    "    \"network_name\": model.__class__.__name__,\n",
    "    \"batch_size\": 64,\n",
    "    \"learning_rate\": 0.001,\n",
    "    \"num_epochs\": 25,\n",
    "    \"num_workers\": 2,\n",
    "    \"device\": device\n",
    "\n",
    "}\n",
    "train_net(**training_params)"
   ]
  },
  {
   "cell_type": "markdown",
   "metadata": {
    "id": "v7DY56rKa91I"
   },
   "source": [
    "### Part (d) [2 pt]\n",
    "\n",
    "Before we deploy a machine learning model, we usually want to have a better understanding\n",
    "of how our model performs beyond its validation accuracy. An important metric to track is\n",
    "*how well our model performs in certain subsets of the data*.\n",
    "\n",
    "In particular, what is the model's error rate amongst data with negative labels?\n",
    "This is called the **false positive rate**.\n",
    "\n",
    "What about the model's error rate amongst data with positive labels?\n",
    "This is called the **false negative rate**.\n",
    "\n",
    "Report your final model's false positive and false negative rate across the\n",
    "validation set."
   ]
  },
  {
   "cell_type": "code",
   "execution_count": 36,
   "metadata": {
    "executionInfo": {
     "elapsed": 254,
     "status": "ok",
     "timestamp": 1647194050018,
     "user": {
      "displayName": "Yifan Lu",
      "photoUrl": "https://lh3.googleusercontent.com/a-/AOh14Gh3mO9arbKO8PsujoGig1HDIyODZyvAwxAln-XK2A=s64",
      "userId": "13144022923262331696"
     },
     "user_tz": 240
    },
    "id": "LG8khTLFaIqP"
   },
   "outputs": [],
   "source": [
    "def confusion(dataset):\n",
    "  # Create a Dataset of only spam dataset examples\n",
    "  spam = torchtext.legacy.data.Dataset(\n",
    "      [e for e in dataset.examples if e.label == 1],\n",
    "      dataset.fields)\n",
    "  # Create a Dataset of only non-spam dataset examples\n",
    "  nospam = torchtext.legacy.data.Dataset(\n",
    "      [e for e in dataset.examples if e.label == 0],\n",
    "      dataset.fields)\n",
    "\n",
    "  tn = get_accuracy(model, nospam)\n",
    "  fp = 1 - tn\n",
    "  tp = get_accuracy(model, spam)\n",
    "  fn = 1 - tp\n",
    "\n",
    "  return tn, fp, tp, fn"
   ]
  },
  {
   "cell_type": "code",
   "execution_count": 37,
   "metadata": {
    "colab": {
     "base_uri": "https://localhost:8080/"
    },
    "collapsed": true,
    "executionInfo": {
     "elapsed": 529,
     "status": "ok",
     "timestamp": 1647194054876,
     "user": {
      "displayName": "Yifan Lu",
      "photoUrl": "https://lh3.googleusercontent.com/a-/AOh14Gh3mO9arbKO8PsujoGig1HDIyODZyvAwxAln-XK2A=s64",
      "userId": "13144022923262331696"
     },
     "user_tz": 240
    },
    "id": "7ggbQSdba91J",
    "jupyter": {
     "outputs_hidden": true
    },
    "outputId": "7cb6d0b0-f2f2-48ef-94bc-8c0033a10787"
   },
   "outputs": [
    {
     "name": "stdout",
     "output_type": "stream",
     "text": [
      "False positive:  0.10172939979654627 %\n",
      "False negative:  8.3969465648855 %\n"
     ]
    }
   ],
   "source": [
    "model = SpamNet2(vocab_size=len(text_field.vocab), \n",
    "                hidden_size=len(text_field.vocab), \n",
    "                num_classes=2).to(device)\n",
    "\n",
    "training_params = {\n",
    "    \"net\": model,\n",
    "    \"train_set\": train,\n",
    "    \"val_set\": valid,\n",
    "    \"path_prefix\": \"spamnet2_default\",\n",
    "    \"network_name\": model.__class__.__name__,\n",
    "    \"batch_size\": 64,\n",
    "    \"learning_rate\": 0.001,\n",
    "    \"num_epochs\": 25,\n",
    "    \"num_workers\": 2,\n",
    "    \"device\": device\n",
    "\n",
    "}\n",
    "\n",
    "model_path = get_model_name(training_params[\"network_name\"], \n",
    "                            batch_size=training_params[\"batch_size\"], \n",
    "                            learning_rate=training_params[\"learning_rate\"], \n",
    "                            epoch=25 - 1,\n",
    "                            path_prefix=training_params[\"path_prefix\"])\n",
    "state = torch.load(model_path)\n",
    "model.load_state_dict(state)\n",
    "\n",
    "_, fp, _, fn = confusion(valid)\n",
    "\n",
    "print(\"False positive: \", fp * 100, \"%\")\n",
    "print(\"False negative: \", fn * 100, \"%\")\n"
   ]
  },
  {
   "cell_type": "markdown",
   "metadata": {
    "id": "N1iRteb3a91O"
   },
   "source": [
    "### Part (e) [2 pt]\n",
    "\n",
    "The impact of a false positive vs a false negative can be drastically different.\n",
    "If our spam detection algorithm was deployed on your phone, what is the impact\n",
    "of a false positive on the phone's user? What is the impact of a false negative?"
   ]
  },
  {
   "cell_type": "markdown",
   "metadata": {
    "id": "w6X4xvRHZTg5"
   },
   "source": [
    "* Impact of false positive: missed messages due to the algorithm misclassifying non-spam messages to spam. \n",
    "* Impact of false negative: receive spam messages because the algorithm classified it as non-spam. "
   ]
  },
  {
   "cell_type": "markdown",
   "metadata": {
    "id": "Gznefulsa91V"
   },
   "source": [
    "## Part 4. Evaluation [11 pt]\n",
    "\n",
    "### Part (a) [1 pt]\n",
    "\n",
    "Report the final test accuracy of your model."
   ]
  },
  {
   "cell_type": "code",
   "execution_count": 53,
   "metadata": {
    "colab": {
     "base_uri": "https://localhost:8080/"
    },
    "collapsed": true,
    "executionInfo": {
     "elapsed": 435,
     "status": "ok",
     "timestamp": 1647194695872,
     "user": {
      "displayName": "Yifan Lu",
      "photoUrl": "https://lh3.googleusercontent.com/a-/AOh14Gh3mO9arbKO8PsujoGig1HDIyODZyvAwxAln-XK2A=s64",
      "userId": "13144022923262331696"
     },
     "user_tz": 240
    },
    "id": "D5L5D-A1a91W",
    "jupyter": {
     "outputs_hidden": true
    },
    "outputId": "46a92907-147d-40cf-d09c-f4e0d9ef0b7b"
   },
   "outputs": [
    {
     "name": "stdout",
     "output_type": "stream",
     "text": [
      "torch.Size([1115, 446])\n",
      "<class 'torch.Tensor'>\n",
      "torch.int64\n",
      "Test accuracy:  97.9372197309417 %\n"
     ]
    }
   ],
   "source": [
    "model = SpamNet2(vocab_size=len(text_field.vocab), \n",
    "                hidden_size=len(text_field.vocab), \n",
    "                num_classes=2).to(device)\n",
    "\n",
    "training_params = {\n",
    "    \"net\": model,\n",
    "    \"train_set\": train,\n",
    "    \"val_set\": valid,\n",
    "    \"path_prefix\": \"spamnet2_default\",\n",
    "    \"network_name\": model.__class__.__name__,\n",
    "    \"batch_size\": 64,\n",
    "    \"learning_rate\": 0.001,\n",
    "    \"num_epochs\": 25,\n",
    "    \"num_workers\": 2,\n",
    "    \"device\": device\n",
    "\n",
    "}\n",
    "\n",
    "model_path = get_model_name(training_params[\"network_name\"], \n",
    "                            batch_size=training_params[\"batch_size\"], \n",
    "                            learning_rate=training_params[\"learning_rate\"], \n",
    "                            epoch=25 - 1,\n",
    "                            path_prefix=training_params[\"path_prefix\"])\n",
    "state = torch.load(model_path)\n",
    "model.load_state_dict(state)\n",
    "\n",
    "test_acc = get_accuracy(model, test)\n",
    "print(\"Test accuracy: \", test_acc * 100, \"%\")\n",
    "\n"
   ]
  },
  {
   "cell_type": "markdown",
   "metadata": {
    "id": "6Hjmd8rca91Y"
   },
   "source": [
    "### Part (b) [3 pt]\n",
    "\n",
    "Report the false positive rate and false negative rate of your model across the test set."
   ]
  },
  {
   "cell_type": "code",
   "execution_count": 38,
   "metadata": {
    "colab": {
     "base_uri": "https://localhost:8080/"
    },
    "collapsed": true,
    "executionInfo": {
     "elapsed": 518,
     "status": "ok",
     "timestamp": 1647194103856,
     "user": {
      "displayName": "Yifan Lu",
      "photoUrl": "https://lh3.googleusercontent.com/a-/AOh14Gh3mO9arbKO8PsujoGig1HDIyODZyvAwxAln-XK2A=s64",
      "userId": "13144022923262331696"
     },
     "user_tz": 240
    },
    "id": "GFiAKztJa91Z",
    "jupyter": {
     "outputs_hidden": true
    },
    "outputId": "f82cb99f-2c6b-48ef-af6a-fb1845562d76"
   },
   "outputs": [
    {
     "name": "stdout",
     "output_type": "stream",
     "text": [
      "False positive:  0.5175983436852993 %\n",
      "False negative:  11.409395973154357 %\n"
     ]
    }
   ],
   "source": [
    "_, fp, _, fn = confusion(test)\n",
    "print(\"False positive: \", fp * 100, \"%\")\n",
    "print(\"False negative: \", fn * 100, \"%\")"
   ]
  },
  {
   "cell_type": "markdown",
   "metadata": {
    "id": "0jGHtQFpa91b"
   },
   "source": [
    "### Part (c) [3 pt]\n",
    "\n",
    "What is your model's prediction of the **probability** that\n",
    "the SMS message \"machine learning is sooo cool!\" is spam?\n",
    "\n",
    "Hint: To begin, use `text_field.vocab.stoi` to look up the index\n",
    "of each character in the vocabulary."
   ]
  },
  {
   "cell_type": "code",
   "execution_count": 43,
   "metadata": {
    "colab": {
     "base_uri": "https://localhost:8080/"
    },
    "executionInfo": {
     "elapsed": 133,
     "status": "ok",
     "timestamp": 1647194334023,
     "user": {
      "displayName": "Yifan Lu",
      "photoUrl": "https://lh3.googleusercontent.com/a-/AOh14Gh3mO9arbKO8PsujoGig1HDIyODZyvAwxAln-XK2A=s64",
      "userId": "13144022923262331696"
     },
     "user_tz": 240
    },
    "id": "CCcmxyCfbbb9",
    "outputId": "8d59ca52-ea43-4ac4-e751-bbaa1863eeaa"
   },
   "outputs": [
    {
     "data": {
      "text/plain": [
       "0"
      ]
     },
     "execution_count": 43,
     "metadata": {},
     "output_type": "execute_result"
    }
   ],
   "source": [
    "text_field.vocab.stoi[iter(\"hello\")]"
   ]
  },
  {
   "cell_type": "code",
   "execution_count": 59,
   "metadata": {
    "colab": {
     "base_uri": "https://localhost:8080/"
    },
    "executionInfo": {
     "elapsed": 148,
     "status": "ok",
     "timestamp": 1647194997065,
     "user": {
      "displayName": "Yifan Lu",
      "photoUrl": "https://lh3.googleusercontent.com/a-/AOh14Gh3mO9arbKO8PsujoGig1HDIyODZyvAwxAln-XK2A=s64",
      "userId": "13144022923262331696"
     },
     "user_tz": 240
    },
    "id": "h_2nSJq8a91b",
    "jupyter": {
     "outputs_hidden": true
    },
    "outputId": "2aab9b1c-bb9d-4a37-c2b7-7ffc6cd2c0f3"
   },
   "outputs": [
    {
     "name": "stdout",
     "output_type": "stream",
     "text": [
      "Spam probability: 0.19991581793874502 %\n"
     ]
    }
   ],
   "source": [
    "msg = \"machine learning is sooo cool!\"\n",
    "input = torch.LongTensor([text_field.vocab.stoi[s] for s in msg]).unsqueeze(0)\n",
    "input = input.to(device)\n",
    "\n",
    "out = model(input)\n",
    "m = nn.Softmax(dim=1)\n",
    "pred = m(out).cpu().detach().numpy()[0][1]\n",
    "\n",
    "print(\"Spam probability:\", pred * 100, \"%\")"
   ]
  },
  {
   "cell_type": "markdown",
   "metadata": {
    "id": "QD1zgYJpa91f"
   },
   "source": [
    "### Part (d) [4 pt]\n",
    "\n",
    "Do you think detecting spam is an easy or difficult task?\n",
    "\n",
    "Since machine learning models are expensive to train and deploy, it is very\n",
    "important to compare our models against baseline models: a simple\n",
    "model that is easy to build and inexpensive to run that we can compare our\n",
    "recurrent neural network model against.\n",
    "\n",
    "Explain how you might build a simple baseline model. This baseline model\n",
    "can be a simple neural network (with very few weights), a hand-written algorithm,\n",
    "or any other strategy that is easy to build and test.\n",
    "\n",
    "**Do not actually build a baseline model. Instead, provide instructions on\n",
    "how to build it.**"
   ]
  },
  {
   "cell_type": "markdown",
   "metadata": {
    "id": "g-86qizAg_9i"
   },
   "source": [
    "---\n",
    "Spam detection is generally a difficult task. Because the tolerance of false positive is very low, as users never want to miss any messages. However, for applications that don't require a very low false positive rate, then the detection can be easy, since spam messages are usually associated with certain features such as keywords. \n",
    "\n",
    "A simple baseline model can be a fully connected neural network. Glove embeddings of each word can be used to tokenize the input, which is then concatenated and fed into a fully-connected network with non-linear activations. The output is a binary classification and we can use a Binary Cross Entropy loss function to train the network. "
   ]
  }
 ],
 "metadata": {
  "accelerator": "GPU",
  "colab": {
   "collapsed_sections": [],
   "name": "Lab_5_Spam_Detection_Winter_2022.ipynb",
   "provenance": []
  },
  "kernelspec": {
   "display_name": "Python 3",
   "language": "python",
   "name": "python3"
  },
  "language_info": {
   "codemirror_mode": {
    "name": "ipython",
    "version": 3
   },
   "file_extension": ".py",
   "mimetype": "text/x-python",
   "name": "python",
   "nbconvert_exporter": "python",
   "pygments_lexer": "ipython3",
   "version": "3.8.8"
  }
 },
 "nbformat": 4,
 "nbformat_minor": 1
}
